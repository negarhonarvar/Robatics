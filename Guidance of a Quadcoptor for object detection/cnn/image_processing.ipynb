{
 "cells": [
  {
   "cell_type": "code",
   "execution_count": 16,
   "metadata": {},
   "outputs": [],
   "source": [
    "import cv2\n",
    "import numpy as np\n",
    "from PIL import Image"
   ]
  },
  {
   "cell_type": "code",
   "execution_count": 17,
   "metadata": {},
   "outputs": [],
   "source": [
    "n = 5\n",
    "for i in range(1, n + 1):\n",
    "    img_noisy1 = cv2.imread(f\"../datasets/box{i}/output_image{i}-1_gray_scale_crop.jpg\", cv2.IMREAD_GRAYSCALE)\n",
    "    min_filtered = cv2.erode(img_noisy1, None)\n",
    "    img_new1 = min_filtered.astype(np.uint8)\n",
    "    cv2.imwrite(f\"../datasets/image_processing/output_image{i}-1_gray_scale_crop_min_filter.jpg\", img_new1)"
   ]
  },
  {
   "cell_type": "code",
   "execution_count": 18,
   "metadata": {},
   "outputs": [],
   "source": [
    "for i in range(1, n + 1):\n",
    "    img_noisy1 = cv2.imread(f\"../datasets/box{i}/output_image{i}-1_gray_scale_crop.jpg\", cv2.IMREAD_GRAYSCALE)\n",
    "    max_filtered = cv2.dilate(img_noisy1, None)\n",
    "    img_new1 = max_filtered.astype(np.uint8)\n",
    "    cv2.imwrite(f\"../datasets/image_processing/output_image{i}-1_gray_scale_crop_max_filter.jpg\", img_new1)"
   ]
  },
  {
   "cell_type": "code",
   "execution_count": 21,
   "metadata": {},
   "outputs": [],
   "source": [
    "def increase_detail(img, img_name):\n",
    "    laplacian_filtered = cv2.Laplacian(img, cv2.CV_64F)\n",
    "    laplacian_filtered = cv2.convertScaleAbs(laplacian_filtered)\n",
    "    enhanced_img = cv2.add(img, laplacian_filtered)\n",
    "    img_new8_1 = enhanced_img.astype(np.uint8)\n",
    "    cv2.imwrite(img_name, img_new8_1)\n",
    "\n",
    "\n",
    "for i in range(1, n + 1):\n",
    "    img_noisy8_1 = cv2.imread(\n",
    "        f\"../datasets/box{i}/output_image{i}-1_gray_scale_crop.jpg\",\n",
    "        cv2.IMREAD_GRAYSCALE,\n",
    "    )\n",
    "    img_name = (\n",
    "        f\"../datasets/image_processing/output_image{i}-1_gray_scale_crop_lap_filter.jpg\"\n",
    "    )\n",
    "    increase_detail(img_noisy8_1, img_name)"
   ]
  }
 ],
 "metadata": {
  "kernelspec": {
   "display_name": "Python 3",
   "language": "python",
   "name": "python3"
  },
  "language_info": {
   "codemirror_mode": {
    "name": "ipython",
    "version": 3
   },
   "file_extension": ".py",
   "mimetype": "text/x-python",
   "name": "python",
   "nbconvert_exporter": "python",
   "pygments_lexer": "ipython3",
   "version": "3.11.5"
  }
 },
 "nbformat": 4,
 "nbformat_minor": 2
}
